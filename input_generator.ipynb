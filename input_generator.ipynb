{
 "cells": [
  {
   "cell_type": "code",
   "execution_count": 4,
   "metadata": {},
   "outputs": [],
   "source": [
    "import random\n",
    "\n",
    "N = 1000\n",
    "data = ''\n",
    "data += f'{N}\\n'\n",
    "for i in range(N):\n",
    "    data += f'{-i}' + ' \\n'[i == N - 1]\n",
    "\n",
    "with open('input.txt', 'w') as f:\n",
    "    f.write(data)\n"
   ]
  }
 ],
 "metadata": {
  "interpreter": {
   "hash": "f5b0619ddbc070bf8ca1e2b3af126b271b6d43493b97c3ec3e2db2eb36b5790a"
  },
  "kernelspec": {
   "display_name": "Python 3.10.4 ('PS')",
   "language": "python",
   "name": "python3"
  },
  "language_info": {
   "codemirror_mode": {
    "name": "ipython",
    "version": 3
   },
   "file_extension": ".py",
   "mimetype": "text/x-python",
   "name": "python",
   "nbconvert_exporter": "python",
   "pygments_lexer": "ipython3",
   "version": "3.10.4"
  },
  "orig_nbformat": 4
 },
 "nbformat": 4,
 "nbformat_minor": 2
}
